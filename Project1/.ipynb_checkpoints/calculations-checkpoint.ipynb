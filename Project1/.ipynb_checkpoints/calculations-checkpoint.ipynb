{
 "cells": [
  {
   "cell_type": "code",
   "execution_count": 12,
   "id": "8deca26d",
   "metadata": {
    "scrolled": true
   },
   "outputs": [
    {
     "ename": "FileNotFoundError",
     "evalue": "[Errno 2] No such file or directory: 'kroA100.csv'",
     "output_type": "error",
     "traceback": [
      "\u001b[1;31m---------------------------------------------------------------------------\u001b[0m",
      "\u001b[1;31mFileNotFoundError\u001b[0m                         Traceback (most recent call last)",
      "Cell \u001b[1;32mIn[12], line 14\u001b[0m\n\u001b[0;32m     11\u001b[0m data[fn] \u001b[38;5;241m=\u001b[39m data[fn]\u001b[38;5;241m.\u001b[39mT\n\u001b[0;32m     13\u001b[0m \u001b[38;5;66;03m# Loading problem\u001b[39;00m\n\u001b[1;32m---> 14\u001b[0m problem \u001b[38;5;241m=\u001b[39m tsp\u001b[38;5;241m.\u001b[39mload(\u001b[38;5;124mf\u001b[39m\u001b[38;5;124m'\u001b[39m\u001b[38;5;124mkro\u001b[39m\u001b[38;5;132;01m{\u001b[39;00mfn\u001b[38;5;132;01m}\u001b[39;00m\u001b[38;5;124m100.csv\u001b[39m\u001b[38;5;124m'\u001b[39m)\n\u001b[0;32m     15\u001b[0m nodes_ \u001b[38;5;241m=\u001b[39m [v \u001b[38;5;28;01mfor\u001b[39;00m _, v \u001b[38;5;129;01min\u001b[39;00m problem\u001b[38;5;241m.\u001b[39mnode_coords\u001b[38;5;241m.\u001b[39mitems()]\n\u001b[0;32m     16\u001b[0m \u001b[38;5;28mprint\u001b[39m(nodes_)\n",
      "File \u001b[1;32m~\\anaconda3\\Lib\\site-packages\\tsplib95\\loaders.py:16\u001b[0m, in \u001b[0;36mload\u001b[1;34m(filepath, problem_class, special)\u001b[0m\n\u001b[0;32m      7\u001b[0m \u001b[38;5;28;01mdef\u001b[39;00m \u001b[38;5;21mload\u001b[39m(filepath, problem_class\u001b[38;5;241m=\u001b[39m\u001b[38;5;28;01mNone\u001b[39;00m, special\u001b[38;5;241m=\u001b[39m\u001b[38;5;28;01mNone\u001b[39;00m):\n\u001b[0;32m      8\u001b[0m \u001b[38;5;250m    \u001b[39m\u001b[38;5;124;03m\"\"\"Load a problem at the given filepath.\u001b[39;00m\n\u001b[0;32m      9\u001b[0m \n\u001b[0;32m     10\u001b[0m \u001b[38;5;124;03m    :param str filepath: path to a TSPLIB problem file\u001b[39;00m\n\u001b[1;32m   (...)\u001b[0m\n\u001b[0;32m     14\u001b[0m \u001b[38;5;124;03m    :rtype: :class:`~Problem`\u001b[39;00m\n\u001b[0;32m     15\u001b[0m \u001b[38;5;124;03m    \"\"\"\u001b[39;00m\n\u001b[1;32m---> 16\u001b[0m     \u001b[38;5;28;01mwith\u001b[39;00m \u001b[38;5;28mopen\u001b[39m(filepath) \u001b[38;5;28;01mas\u001b[39;00m f:\n\u001b[0;32m     17\u001b[0m         \u001b[38;5;28;01mreturn\u001b[39;00m read(f, special\u001b[38;5;241m=\u001b[39mspecial, problem_class\u001b[38;5;241m=\u001b[39mproblem_class)\n",
      "\u001b[1;31mFileNotFoundError\u001b[0m: [Errno 2] No such file or directory: 'kroA100.csv'"
     ]
    }
   ],
   "source": [
    "import pandas as pd\n",
    "import tsplib95 as tsp\n",
    "\n",
    "file_names = ['A', 'B']\n",
    "data = {}\n",
    "nodes = {}\n",
    "\n",
    "for fn in file_names:\n",
    "    # Loading csv's\n",
    "    data[fn] = pd.read_csv(f'results_kro{fn}100.csv', sep=',', header=None)\n",
    "    data[fn] = data[fn].T\n",
    "    \n",
    "    # Loading problem\n",
    "    problem = tsp.load(f'kro{fn}100.csv')\n",
    "    nodes_ = [v for _, v in problem.node_coords.items()]\n",
    "    print(nodes_)\n",
    "    nodes[fn] = {}\n",
    "    nodes[fn]['x'] = [node[0] for node in nodes_]\n",
    "    nodes[fn]['y'] = [node[1] for node in nodes_]\n",
    "\n",
    "nodes"
   ]
  },
  {
   "cell_type": "code",
   "execution_count": null,
   "id": "0ac7f18f",
   "metadata": {},
   "outputs": [],
   "source": []
  }
 ],
 "metadata": {
  "kernelspec": {
   "display_name": "Python 3 (ipykernel)",
   "language": "python",
   "name": "python3"
  },
  "language_info": {
   "codemirror_mode": {
    "name": "ipython",
    "version": 3
   },
   "file_extension": ".py",
   "mimetype": "text/x-python",
   "name": "python",
   "nbconvert_exporter": "python",
   "pygments_lexer": "ipython3",
   "version": "3.11.5"
  }
 },
 "nbformat": 4,
 "nbformat_minor": 5
}
